{
 "cells": [
  {
   "cell_type": "code",
   "execution_count": 1,
   "metadata": {},
   "outputs": [],
   "source": [
    "import numpy as np\n",
    "from matplotlib import pyplot as plt\n"
   ]
  },
  {
   "cell_type": "markdown",
   "metadata": {},
   "source": [
    "# Percetron"
   ]
  },
  {
   "cell_type": "code",
   "execution_count": 85,
   "metadata": {},
   "outputs": [],
   "source": [
    "class Percetron:\n",
    "    \n",
    "    def __init__(self, data):\n",
    "    \n",
    "        self.w = np.zeros((data.shape[1] - 1), dtype = np.float32)\n",
    "        self.b = 0\n",
    "        self.theta = 1\n",
    "        self.train_x = data[:, :-1]\n",
    "        self.train_y = data[:, -1]\n",
    "    \n",
    "    \n",
    "    def sign(self,x, w, b):\n",
    "        y = np.dot(w.T, x) + b\n",
    "        \n",
    "        return y\n",
    "    \n",
    "    \n",
    "    def optimize(self,):\n",
    "        is_wrong = True\n",
    "        while is_wrong:\n",
    "            wrong_count = 0\n",
    "            \n",
    "            for i in range(train_x.shape[0]):\n",
    "                \n",
    "#                 print(\"第{}组数据为{}{}：\".format(i+1,train_x[i], train_y[i]))\n",
    "                y_hat = self.sign(self.train_x[i], self.w, self.b)\n",
    "                \n",
    "#                 print(\"{} result is {}\".format(i+1, y_hat))\n",
    "                \n",
    "                if (train_y[i] * y_hat <= 0.0):\n",
    "                    wrong_count = wrong_count + 1\n",
    "#                     print(\"Test\")\n",
    "#                     print(self.train_x[i], self.train_y[i], self.w, self.b)\n",
    "                    self.w = self.w + self.theta * self.train_y[i]* self.train_x[i]\n",
    "                    self.b = self.b + self.theta * self.train_y[i]\n",
    "#                     print(\"第{}数据优化后w和b的参数为{}{}\".format(i+1, self.w, self.b))\n",
    "                    \n",
    "            if wrong_count == 0: \n",
    "                is_wrong = False\n",
    "                \n",
    "        return 'Perceptron Model!'\n",
    "    \n",
    "    "
   ]
  },
  {
   "cell_type": "markdown",
   "metadata": {},
   "source": [
    "## Test 例题2.1"
   ]
  },
  {
   "cell_type": "code",
   "execution_count": 136,
   "metadata": {},
   "outputs": [
    {
     "name": "stdout",
     "output_type": "stream",
     "text": [
      "(3, 3)\n",
      "(3, 2) (3,)\n",
      "[1. 1.] -3\n"
     ]
    }
   ],
   "source": [
    "data = np.array([[3,3,1], [4,3,1],[1,1,-1]])\n",
    "print(data.shape)\n",
    "# train_x = data[:, :-1]\n",
    "# train_y = data[:, -1]\n",
    "\n",
    "print(train_x.shape, train_y.shape)\n",
    "\n",
    "# print(train_x, train_y)\n",
    "\n",
    "\n",
    "modle = Percetron(data)\n",
    "modle.optimize()\n",
    "\n",
    "print(modle.w, modle.b)"
   ]
  },
  {
   "cell_type": "markdown",
   "metadata": {},
   "source": [
    "## Sklearn"
   ]
  },
  {
   "cell_type": "code",
   "execution_count": 99,
   "metadata": {},
   "outputs": [],
   "source": [
    "from sklearn.datasets import load_iris\n",
    "from sklearn.linear_model import perceptron\n",
    "from sklearn.metrics import f1_score, accuracy_score\n",
    "from sklearn.model_selection import train_test_split\n",
    "\n",
    "import pandas as pd"
   ]
  },
  {
   "cell_type": "markdown",
   "metadata": {},
   "source": [
    "## Load iris dataset"
   ]
  },
  {
   "cell_type": "code",
   "execution_count": 121,
   "metadata": {},
   "outputs": [
    {
     "data": {
      "text/html": [
       "<div>\n",
       "<style scoped>\n",
       "    .dataframe tbody tr th:only-of-type {\n",
       "        vertical-align: middle;\n",
       "    }\n",
       "\n",
       "    .dataframe tbody tr th {\n",
       "        vertical-align: top;\n",
       "    }\n",
       "\n",
       "    .dataframe thead th {\n",
       "        text-align: right;\n",
       "    }\n",
       "</style>\n",
       "<table border=\"1\" class=\"dataframe\">\n",
       "  <thead>\n",
       "    <tr style=\"text-align: right;\">\n",
       "      <th></th>\n",
       "      <th>sepal length (cm)</th>\n",
       "      <th>sepal width (cm)</th>\n",
       "      <th>petal length (cm)</th>\n",
       "      <th>petal width (cm)</th>\n",
       "      <th>class</th>\n",
       "    </tr>\n",
       "  </thead>\n",
       "  <tbody>\n",
       "    <tr>\n",
       "      <th>0</th>\n",
       "      <td>5.1</td>\n",
       "      <td>3.5</td>\n",
       "      <td>1.4</td>\n",
       "      <td>0.2</td>\n",
       "      <td>0</td>\n",
       "    </tr>\n",
       "    <tr>\n",
       "      <th>1</th>\n",
       "      <td>4.9</td>\n",
       "      <td>3.0</td>\n",
       "      <td>1.4</td>\n",
       "      <td>0.2</td>\n",
       "      <td>0</td>\n",
       "    </tr>\n",
       "    <tr>\n",
       "      <th>2</th>\n",
       "      <td>4.7</td>\n",
       "      <td>3.2</td>\n",
       "      <td>1.3</td>\n",
       "      <td>0.2</td>\n",
       "      <td>0</td>\n",
       "    </tr>\n",
       "    <tr>\n",
       "      <th>3</th>\n",
       "      <td>4.6</td>\n",
       "      <td>3.1</td>\n",
       "      <td>1.5</td>\n",
       "      <td>0.2</td>\n",
       "      <td>0</td>\n",
       "    </tr>\n",
       "    <tr>\n",
       "      <th>4</th>\n",
       "      <td>5.0</td>\n",
       "      <td>3.6</td>\n",
       "      <td>1.4</td>\n",
       "      <td>0.2</td>\n",
       "      <td>0</td>\n",
       "    </tr>\n",
       "  </tbody>\n",
       "</table>\n",
       "</div>"
      ],
      "text/plain": [
       "   sepal length (cm)  sepal width (cm)  petal length (cm)  petal width (cm)  \\\n",
       "0                5.1               3.5                1.4               0.2   \n",
       "1                4.9               3.0                1.4               0.2   \n",
       "2                4.7               3.2                1.3               0.2   \n",
       "3                4.6               3.1                1.5               0.2   \n",
       "4                5.0               3.6                1.4               0.2   \n",
       "\n",
       "   class  \n",
       "0      0  \n",
       "1      0  \n",
       "2      0  \n",
       "3      0  \n",
       "4      0  "
      ]
     },
     "execution_count": 121,
     "metadata": {},
     "output_type": "execute_result"
    }
   ],
   "source": [
    "irs_data = load_iris()\n",
    "irs_df = pd.DataFrame(data = irs_data.data, columns = irs_data.feature_names)\n",
    "irs_df['class'] = irs_data.target\n",
    "irs_df.head(5)"
   ]
  },
  {
   "cell_type": "code",
   "execution_count": 140,
   "metadata": {},
   "outputs": [
    {
     "data": {
      "text/plain": [
       "<matplotlib.legend.Legend at 0x1516a6490a0>"
      ]
     },
     "execution_count": 140,
     "metadata": {},
     "output_type": "execute_result"
    },
    {
     "data": {
      "image/png": "[encoded data removed]",
      "text/plain": [
       "<Figure size 360x360 with 1 Axes>"
      ]
     },
     "metadata": {
      "needs_background": "light"
     },
     "output_type": "display_data"
    }
   ],
   "source": [
    "figure = plt.figure(figsize=(5,5))\n",
    "plt.scatter(irs_df[:50]['sepal length (cm)'], irs_df[:50]['sepal width (cm)'], marker = '.', c = 'r', label = 'class0')\n",
    "plt.scatter(irs_df[50:100]['sepal length (cm)'], irs_df[50:100]['sepal width (cm)'], marker = 'v', c = 'b', label = 'class1')\n",
    "\n",
    "# x = np.linspace(4, 7, 10)\n",
    "# y_ = (modle.w[0] * x + modle.b)\n",
    "# plt.plot(x, y_)\n",
    "\n",
    "plt.xlabel('sepal length (cm)')\n",
    "plt.ylabel('sepal width (cm)')\n",
    "plt.legend()"
   ]
  }
 ],
 "metadata": {
  "kernelspec": {
   "display_name": "Python 3",
   "language": "python",
   "name": "python3"
  },
  "language_info": {
   "codemirror_mode": {
    "name": "ipython",
    "version": 3
   },
   "file_extension": ".py",
   "mimetype": "text/x-python",
   "name": "python",
   "nbconvert_exporter": "python",
   "pygments_lexer": "ipython3",
   "version": "3.8.3"
  }
 },
 "nbformat": 4,
 "nbformat_minor": 4
}
